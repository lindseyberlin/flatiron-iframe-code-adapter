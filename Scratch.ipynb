{
 "cells": [
  {
   "cell_type": "markdown",
   "metadata": {},
   "source": [
    "# Parsing a Google Sheets Embed Code\n",
    "\n",
    "Assumptions:\n",
    "\n",
    "- All embed codes start with `<iframe src=\"https://docs.google.com/spreadsheets/d/e/`"
   ]
  },
  {
   "cell_type": "code",
   "execution_count": 1,
   "metadata": {},
   "outputs": [],
   "source": [
    "raw_code = '<iframe src=\"https://docs.google.com/spreadsheets/d/e/2PACX-1vSpKwrQ8iTvlXuZ6a__Wiz8z-g8pYrR2Dx2FkOB0uKNBtSYuC-MYTAz04r8Pv1attPeqYuSuT4Ru4e9/pubhtml?gid=974564005&amp;single=true&amp;widget=true&amp;headers=false\"></iframe>'"
   ]
  },
  {
   "cell_type": "code",
   "execution_count": 2,
   "metadata": {},
   "outputs": [
    {
     "data": {
      "text/plain": [
       "'<iframe src=\"https://docs.google.com/spreadsheets/d/e/2PACX-1vSpKwrQ8iTvlXuZ6a__Wiz8z-g8pYrR2Dx2FkOB0uKNBtSYuC-MYTAz04r8Pv1attPeqYuSuT4Ru4e9/pubhtml?gid=974564005&amp;single=true&amp;widget=true&amp;headers=false\"></iframe>'"
      ]
     },
     "execution_count": 2,
     "metadata": {},
     "output_type": "execute_result"
    }
   ],
   "source": [
    "raw_code"
   ]
  },
  {
   "cell_type": "code",
   "execution_count": 3,
   "metadata": {},
   "outputs": [],
   "source": [
    "split = raw_code.split(sep=\"/\")"
   ]
  },
  {
   "cell_type": "code",
   "execution_count": 4,
   "metadata": {
    "scrolled": true
   },
   "outputs": [
    {
     "data": {
      "text/plain": [
       "['<iframe src=\"https:',\n",
       " '',\n",
       " 'docs.google.com',\n",
       " 'spreadsheets',\n",
       " 'd',\n",
       " 'e',\n",
       " '2PACX-1vSpKwrQ8iTvlXuZ6a__Wiz8z-g8pYrR2Dx2FkOB0uKNBtSYuC-MYTAz04r8Pv1attPeqYuSuT4Ru4e9',\n",
       " 'pubhtml?gid=974564005&amp;single=true&amp;widget=true&amp;headers=false\"><',\n",
       " 'iframe>']"
      ]
     },
     "execution_count": 4,
     "metadata": {},
     "output_type": "execute_result"
    }
   ],
   "source": [
    "split"
   ]
  },
  {
   "cell_type": "code",
   "execution_count": 5,
   "metadata": {},
   "outputs": [
    {
     "data": {
      "text/plain": [
       "'2PACX-1vSpKwrQ8iTvlXuZ6a__Wiz8z-g8pYrR2Dx2FkOB0uKNBtSYuC-MYTAz04r8Pv1attPeqYuSuT4Ru4e9'"
      ]
     },
     "execution_count": 5,
     "metadata": {},
     "output_type": "execute_result"
    }
   ],
   "source": [
    "split[6]"
   ]
  },
  {
   "cell_type": "code",
   "execution_count": 6,
   "metadata": {},
   "outputs": [
    {
     "data": {
      "text/plain": [
       "['pubhtml?gid',\n",
       " '974564005&amp;single',\n",
       " 'true&amp;widget',\n",
       " 'true&amp;headers',\n",
       " 'false\"><']"
      ]
     },
     "execution_count": 6,
     "metadata": {},
     "output_type": "execute_result"
    }
   ],
   "source": [
    "split[7].split(sep=\"=\")"
   ]
  },
  {
   "cell_type": "code",
   "execution_count": 7,
   "metadata": {},
   "outputs": [],
   "source": [
    "pubhtmlgid = split[7].split(sep=\"&\")[0]"
   ]
  },
  {
   "cell_type": "code",
   "execution_count": 8,
   "metadata": {},
   "outputs": [
    {
     "data": {
      "text/plain": [
       "'974564005'"
      ]
     },
     "execution_count": 8,
     "metadata": {},
     "output_type": "execute_result"
    }
   ],
   "source": [
    "pubhtmlgid.split(\"=\")[1]"
   ]
  },
  {
   "cell_type": "code",
   "execution_count": 10,
   "metadata": {},
   "outputs": [],
   "source": [
    "def separate_ids(iframe_raw):\n",
    "    slash_split = raw_code.split(sep=\"/\")\n",
    "    source_id = slash_split[6]\n",
    "    gid = slash_split[7].split(sep=\"&\")[0].split(\"=\")[1]\n",
    "    return source_id, gid"
   ]
  },
  {
   "cell_type": "code",
   "execution_count": 12,
   "metadata": {},
   "outputs": [],
   "source": [
    "source_id, gid = separate_ids(raw_code)"
   ]
  },
  {
   "cell_type": "code",
   "execution_count": 13,
   "metadata": {},
   "outputs": [
    {
     "name": "stdout",
     "output_type": "stream",
     "text": [
      "2PACX-1vSpKwrQ8iTvlXuZ6a__Wiz8z-g8pYrR2Dx2FkOB0uKNBtSYuC-MYTAz04r8Pv1attPeqYuSuT4Ru4e9 974564005\n"
     ]
    }
   ],
   "source": [
    "print(source_id, gid)"
   ]
  },
  {
   "cell_type": "code",
   "execution_count": 14,
   "metadata": {},
   "outputs": [],
   "source": [
    "def generate_iframe_with_params(iframe_raw,\n",
    "                                width=100,\n",
    "                                height=250,\n",
    "                                cell_range='A1:E7'):\n",
    "    source_id, gid = separate_ids(iframe_raw)\n",
    "    iframe_with_params = f'<iframe style=\"width: {width}%; height: {height}px;\" src=\"https://docs.google.com/spreadsheets/d/e/{source_id}/pubhtml?gid={gid}&amp;range={cell_range}&amp;single=true&amp;widget=false&amp;headers=false&amp;chrome=false\"></iframe>'\n",
    "    return iframe_with_params"
   ]
  },
  {
   "cell_type": "code",
   "execution_count": 15,
   "metadata": {},
   "outputs": [
    {
     "data": {
      "text/plain": [
       "'<iframe style=\"width: 100%; height: 250px;\" src=\"https://docs.google.com/spreadsheets/d/e/2PACX-1vSpKwrQ8iTvlXuZ6a__Wiz8z-g8pYrR2Dx2FkOB0uKNBtSYuC-MYTAz04r8Pv1attPeqYuSuT4Ru4e9/pubhtml?gid=974564005&amp;range=A1:E7&amp;single=true&amp;widget=false&amp;headers=false&amp;chrome=false\"></iframe>'"
      ]
     },
     "execution_count": 15,
     "metadata": {},
     "output_type": "execute_result"
    }
   ],
   "source": [
    "generate_iframe_with_params(raw_code)"
   ]
  },
  {
   "cell_type": "code",
   "execution_count": null,
   "metadata": {},
   "outputs": [],
   "source": []
  }
 ],
 "metadata": {
  "kernelspec": {
   "display_name": "Python [conda env:main] *",
   "language": "python",
   "name": "conda-env-main-py"
  },
  "language_info": {
   "codemirror_mode": {
    "name": "ipython",
    "version": 3
   },
   "file_extension": ".py",
   "mimetype": "text/x-python",
   "name": "python",
   "nbconvert_exporter": "python",
   "pygments_lexer": "ipython3",
   "version": "3.6.9"
  }
 },
 "nbformat": 4,
 "nbformat_minor": 2
}
